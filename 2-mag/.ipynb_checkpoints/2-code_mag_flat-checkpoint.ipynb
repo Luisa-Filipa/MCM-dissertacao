{
 "cells": [
  {
   "cell_type": "code",
   "execution_count": null,
   "id": "99f83ddc",
   "metadata": {},
   "outputs": [],
   "source": [
    "# Imports\n",
    "import IPython\n",
    "import IPython.display\n",
    "import pandas as pd\n",
    "from numpy import mean\n",
    "from numpy import std\n",
    "import seaborn as sn\n",
    "import matplotlib.pyplot as plt\n",
    "import numpy as np\n",
    "import glob\n",
    "import tensorflow as tf\n",
    "import math\n",
    "import seaborn as sns\n",
    "from keras.models import Sequential\n",
    "from keras.layers import Dense\n",
    "from keras.layers import Dropout\n",
    "from keras.layers import LSTM\n",
    "from keras.utils import to_categorical\n",
    "from sklearn.model_selection import train_test_split\n",
    "\n",
    "np.random.seed(37151)\n",
    "tf.random.set_seed(37151)"
   ]
  },
  {
   "cell_type": "code",
   "execution_count": null,
   "id": "91d203d4",
   "metadata": {},
   "outputs": [],
   "source": [
    "time = 2.0\n",
    "steps = int(time * 200)"
   ]
  },
  {
   "cell_type": "code",
   "execution_count": null,
   "id": "049ae874",
   "metadata": {},
   "outputs": [],
   "source": [
    "class LSTMClassification():\n",
    "    def __init__(self):\n",
    "         self.df = pd.read_csv('../master_df.csv')     \n",
    "    \n",
    "    # model_output_size = numero de categorias a determinar\n",
    "    # mag_offset = valor magnitudeminimo a categorizar\n",
    "    def prep_features(self, model_output_size=3, mag_offset=4, timedelta = 400):\n",
    "        self.timedelta = timedelta\n",
    "        features = []\n",
    "        labels = []\n",
    "        for index, row in self.df.iterrows():\n",
    "            try:\n",
    "                records = row['list_records'].replace(\"'\", '')\n",
    "                records = records.replace('[', '')\n",
    "                records = records.replace(']', '')                                  \n",
    "                list_records = records.split(', ')\n",
    "                magnitude = row['Mag']\n",
    "                for record in list_records:\n",
    "                    df_ts = pd.read_csv(\"../Renamed_Records/\" + record, index_col=None, header=0, dtype=np.float32)\n",
    "                    features.append(df_ts.iloc[:timedelta].to_numpy(dtype='float'))\n",
    "                    labels.append(np.eye(model_output_size)[magnitude-mag_offset])\n",
    "            except:\n",
    "                continue\n",
    "        self.features=np.array(features)\n",
    "        self.labels=np.array(labels)\n",
    "    \n",
    "    def split_dataset(self, split = 0.8):\n",
    "        self.trainX, self.testX, self.trainY, self.testY = train_test_split(self.features, self.labels, test_size = split, shuffle = True)\n",
    "        print(self.trainX)\n",
    "        print(self.trainY)\n",
    "    \n",
    "    def create_model(self, height=-1, width=2, model_output_size=3):\n",
    "        model = Sequential()\n",
    "        if height == -1:\n",
    "            height = self.timedelta\n",
    "\n",
    "        # input shape = num timesteps, num features(temp, acc.)\n",
    "        model.add(LSTM(100, input_shape = (height, width)))\n",
    "        model.add(Dropout(0.5))\n",
    "        model.add(Dense(100, activation = 'relu'))\n",
    "        model.add(Dense(model_output_size, activation = 'softmax'))\n",
    "        model.compile(loss='categorical_crossentropy', optimizer='adam', metrics=['accuracy'])\n",
    "        # Printing the models summary\n",
    "        #model.summary()\n",
    "        return model\n",
    "    \n",
    "    def evaluate_model(self, model, trainX, trainY, testX, testY, epochs=100, batch_size=3, verbose=0):\n",
    "        history = model.fit(trainX, trainY, epochs=epochs, batch_size=batch_size, verbose=verbose)\n",
    "        loss, accuracy = model.evaluate(testX, testY, batch_size, verbose=verbose)\n",
    "        return accuracy\n",
    "    \n",
    "    def predict_model(self, model, data):\n",
    "        features = data['Values'].to_numpy().astype(float)\n",
    "        predictions = model.predict(features)\n",
    "        return predictions"
   ]
  },
  {
   "cell_type": "code",
   "execution_count": null,
   "id": "47e2ccb0",
   "metadata": {
    "scrolled": true,
    "tags": []
   },
   "outputs": [],
   "source": [
    "# 2 segundos\n",
    "\n",
    "classifier = LSTMClassification()\n",
    "classifier.prep_features(timedelta = 2*200)\n",
    "print(classifier.features.shape)\n",
    "print(classifier.labels.shape)\n",
    "\n",
    "classifier.split_dataset()\n",
    "# height = numero de timestamps, width (time, acc.)\n",
    "LSTM_magnitude_model = classifier.create_model()\n",
    "\n",
    "# struct: (Number or files, number of steps, number of columns)\n",
    "# (70, 400, 2)\n",
    "classifier.evaluate_model(LSTM_magnitude_model, classifier.trainX,  classifier.trainY,  classifier.testX,  classifier.testY, verbose=1)"
   ]
  },
  {
   "cell_type": "code",
   "execution_count": null,
   "id": "07b7f866",
   "metadata": {
    "scrolled": true,
    "tags": []
   },
   "outputs": [],
   "source": [
    "# 4 segundos\n",
    "\n",
    "classifier = LSTMClassification()\n",
    "classifier.prep_features(timedelta = 4*200)\n",
    "print(classifier.features.shape)\n",
    "print(classifier.labels.shape)\n",
    "\n",
    "classifier.split_dataset()\n",
    "# height = numero de timestamps, width (time, acc.)\n",
    "LSTM_magnitude_model = classifier.create_model()\n",
    "\n",
    "# struct: (Number or files, number of steps, number of columns)\n",
    "# (70, 400, 2)\n",
    "classifier.evaluate_model(LSTM_magnitude_model, classifier.trainX,  classifier.trainY,  classifier.testX,  classifier.testY, verbose=1)"
   ]
  },
  {
   "cell_type": "code",
   "execution_count": null,
   "id": "b93ae700",
   "metadata": {
    "scrolled": true,
    "tags": []
   },
   "outputs": [],
   "source": [
    "# 5 segundos\n",
    "\n",
    "classifier = LSTMClassification()\n",
    "classifier.prep_features(timedelta = 5*200)\n",
    "print(classifier.features.shape)\n",
    "print(classifier.labels.shape)\n",
    "\n",
    "classifier.split_dataset()\n",
    "# height = numero de timestamps, width (time, acc.)\n",
    "LSTM_magnitude_model = classifier.create_model()\n",
    "\n",
    "# struct: (Number or files, number of steps, number of columns)\n",
    "# (70, 400, 2)\n",
    "classifier.evaluate_model(LSTM_magnitude_model, classifier.trainX,  classifier.trainY,  classifier.testX,  classifier.testY, verbose=1)"
   ]
  },
  {
   "cell_type": "code",
   "execution_count": null,
   "id": "b0737957",
   "metadata": {},
   "outputs": [],
   "source": [
    "# 8 segundos\n",
    "\n",
    "classifier = LSTMClassification()\n",
    "classifier.prep_features(timedelta = 8*200)\n",
    "print(classifier.features.shape)\n",
    "print(classifier.labels.shape)\n",
    "\n",
    "classifier.split_dataset()\n",
    "# height = numero de timestamps, width (time, acc.)\n",
    "LSTM_magnitude_model = classifier.create_model()\n",
    "\n",
    "# struct: (Number or files, number of steps, number of columns)\n",
    "# (70, 400, 2)\n",
    "classifier.evaluate_model(LSTM_magnitude_model, classifier.trainX,  classifier.trainY,  classifier.testX,  classifier.testY, verbose=1)"
   ]
  },
  {
   "cell_type": "code",
   "execution_count": null,
   "id": "1f504d56-c535-4d45-b827-c32166409904",
   "metadata": {},
   "outputs": [],
   "source": []
  }
 ],
 "metadata": {
  "kernelspec": {
   "display_name": "Python 3 (ipykernel)",
   "language": "python",
   "name": "python3"
  },
  "language_info": {
   "codemirror_mode": {
    "name": "ipython",
    "version": 3
   },
   "file_extension": ".py",
   "mimetype": "text/x-python",
   "name": "python",
   "nbconvert_exporter": "python",
   "pygments_lexer": "ipython3",
   "version": "3.9.13"
  }
 },
 "nbformat": 4,
 "nbformat_minor": 5
}
